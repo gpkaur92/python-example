{
 "cells": [
  {
   "cell_type": "markdown",
   "metadata": {},
   "source": [
    "# Introduction\n",
    "--------------\n",
    "\n",
    "This is the easiest program run by me in jupyter notebook to learn how to run one single piece of code in Python.\n"
   ]
  },
  {
   "cell_type": "code",
   "execution_count": 3,
   "metadata": {},
   "outputs": [
    {
     "name": "stdout",
     "output_type": "stream",
     "text": [
      "\n",
      " Hello world! I am Gurpreet Kaur Cheema\n",
      " The editor of this code is GP Kaur Cheema\n",
      " enjoy the evening\n",
      " I love coding in Python\n",
      " Python is great tool\n"
     ]
    }
   ],
   "source": [
    "\n",
    "\n",
    "txt=\"I am Gurpreet Kaur Cheema\"\n",
    "txt2=\"\\n The editor of this code is GP Kaur Cheema\"\n",
    "txt3=\"\\n enjoy the evening\"\n",
    "txt4=\"\\n I love coding in Python\"\n",
    "txt5=\"\\n Python is great tool\"\n",
    "print('\\n Hello world! '+txt+txt2+txt3+txt4+txt5)\n"
   ]
  },
  {
   "cell_type": "markdown",
   "metadata": {},
   "source": [
    "I just ran my first Python code in a jupyter notebook!\n"
   ]
  },
  {
   "cell_type": "code",
   "execution_count": 2,
   "metadata": {},
   "outputs": [
    {
     "name": "stdout",
     "output_type": "stream",
     "text": [
      "\n",
      " Here we go!\n",
      " Python is general-purpose interpreted,interactive,object-oriented, and high-level programming language.\n",
      "It was created by Guido Van Rossum during 1985-1990. Python source code is available in GNU General Public License(GPL)\n",
      "and it is therefore open source tool.\n",
      " The Jupyter notebook is an open source web application that allows you to create\n",
      "and share documents that contain live code,equations,visualizations,and explanatory text. \n"
     ]
    }
   ],
   "source": [
    "txt=\"\"\"\\n Python is general-purpose interpreted,interactive,object-oriented, and high-level programming language.\n",
    "It was created by Guido Van Rossum during 1985-1990. Python source code is available in GNU General Public License(GPL)\n",
    "and it is therefore open source tool.\\n The Jupyter notebook is an open source web application that allows you to create\n",
    "and share documents that contain live code,equations,visualizations,and explanatory text. \"\"\"\n",
    "print('\\n Here we go!'+txt)"
   ]
  },
  {
   "cell_type": "code",
   "execution_count": null,
   "metadata": {
    "collapsed": true
   },
   "outputs": [],
   "source": []
  }
 ],
 "metadata": {
  "anaconda-cloud": {},
  "kernelspec": {
   "display_name": "Python 2",
   "language": "python",
   "name": "python2"
  },
  "language_info": {
   "codemirror_mode": {
    "name": "ipython",
    "version": 2
   },
   "file_extension": ".py",
   "mimetype": "text/x-python",
   "name": "python",
   "nbconvert_exporter": "python",
   "pygments_lexer": "ipython2",
   "version": "2.7.13"
  }
 },
 "nbformat": 4,
 "nbformat_minor": 1
}
